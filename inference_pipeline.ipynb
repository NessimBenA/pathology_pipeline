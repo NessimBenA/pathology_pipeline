{
 "cells": [
  {
   "cell_type": "code",
   "execution_count": 1,
   "id": "0df4e154",
   "metadata": {
    "execution": {
     "iopub.execute_input": "2022-10-10T09:32:12.146875Z",
     "iopub.status.busy": "2022-10-10T09:32:12.146187Z",
     "iopub.status.idle": "2022-10-10T09:32:12.156693Z",
     "shell.execute_reply": "2022-10-10T09:32:12.155884Z"
    },
    "papermill": {
     "duration": 0.020284,
     "end_time": "2022-10-10T09:32:12.158683",
     "exception": false,
     "start_time": "2022-10-10T09:32:12.138399",
     "status": "completed"
    },
    "tags": []
   },
   "outputs": [],
   "source": [
    "from time import time\n",
    "begin = time()"
   ]
  },
  {
   "cell_type": "code",
   "execution_count": 2,
   "id": "93ddb4c5",
   "metadata": {
    "execution": {
     "iopub.execute_input": "2022-10-10T09:32:12.170395Z",
     "iopub.status.busy": "2022-10-10T09:32:12.170141Z",
     "iopub.status.idle": "2022-10-10T09:38:56.823187Z",
     "shell.execute_reply": "2022-10-10T09:38:56.821972Z"
    },
    "papermill": {
     "duration": 404.661715,
     "end_time": "2022-10-10T09:38:56.825831",
     "exception": false,
     "start_time": "2022-10-10T09:32:12.164116",
     "status": "completed"
    },
    "tags": []
   },
   "outputs": [
    {
     "name": "stdout",
     "output_type": "stream",
     "text": [
      "Processing /kaggle/input/flashwheels/flash-1.0.3-py3-none-any.whl\r\n",
      "Installing collected packages: flash\r\n",
      "Successfully installed flash-1.0.3\r\n",
      "\u001b[33mWARNING: Running pip as the 'root' user can result in broken permissions and conflicting behaviour with the system package manager. It is recommended to use a virtual environment instead: https://pip.pypa.io/warnings/venv\u001b[0m\u001b[33m\r\n",
      "\u001b[0m\u001b[33mWARNING: There was an error checking the latest version of pip.\u001b[0m\u001b[33m\r\n",
      "\u001b[0mProcessing /kaggle/input/flashwheels/jsonargparse-4.9.0-py3-none-any.whl\r\n",
      "Installing collected packages: jsonargparse\r\n",
      "Successfully installed jsonargparse-4.9.0\r\n",
      "\u001b[33mWARNING: Running pip as the 'root' user can result in broken permissions and conflicting behaviour with the system package manager. It is recommended to use a virtual environment instead: https://pip.pypa.io/warnings/venv\u001b[0m\u001b[33m\r\n",
      "\u001b[0m\u001b[33mWARNING: There was an error checking the latest version of pip.\u001b[0m\u001b[33m\r\n",
      "\u001b[0mProcessing /kaggle/input/flashwheels/setuptools-59.5.0-py3-none-any.whl\r\n",
      "Installing collected packages: setuptools\r\n",
      "  Attempting uninstall: setuptools\r\n",
      "    Found existing installation: setuptools 59.8.0\r\n",
      "    Uninstalling setuptools-59.8.0:\r\n",
      "      Successfully uninstalled setuptools-59.8.0\r\n",
      "\u001b[31mERROR: pip's dependency resolver does not currently take into account all the packages that are installed. This behaviour is the source of the following dependency conflicts.\r\n",
      "dask-cudf 21.10.1 requires cupy-cuda114, which is not installed.\r\n",
      "beatrix-jupyterlab 3.1.7 requires google-cloud-bigquery-storage, which is not installed.\r\n",
      "thinc 8.0.17 requires typing-extensions<4.2.0,>=3.7.4.1; python_version < \"3.8\", but you have typing-extensions 4.3.0 which is incompatible.\r\n",
      "spacy 3.3.1 requires typing-extensions<4.2.0,>=3.7.4; python_version < \"3.8\", but you have typing-extensions 4.3.0 which is incompatible.\r\n",
      "google-api-core 1.33.0 requires protobuf<4.0.0dev,>=3.20.1, but you have protobuf 3.19.4 which is incompatible.\r\n",
      "gcsfs 2022.5.0 requires fsspec==2022.5.0, but you have fsspec 2022.8.2 which is incompatible.\r\n",
      "dask-cudf 21.10.1 requires dask==2021.09.1, but you have dask 2022.2.0 which is incompatible.\r\n",
      "dask-cudf 21.10.1 requires distributed==2021.09.1, but you have distributed 2022.2.0 which is incompatible.\r\n",
      "allennlp 2.10.0 requires protobuf==3.20.0, but you have protobuf 3.19.4 which is incompatible.\u001b[0m\u001b[31m\r\n",
      "\u001b[0mSuccessfully installed setuptools-59.5.0\r\n",
      "\u001b[33mWARNING: Running pip as the 'root' user can result in broken permissions and conflicting behaviour with the system package manager. It is recommended to use a virtual environment instead: https://pip.pypa.io/warnings/venv\u001b[0m\u001b[33m\r\n",
      "\u001b[0m\u001b[33mWARNING: There was an error checking the latest version of pip.\u001b[0m\u001b[33m\r\n",
      "\u001b[0mProcessing /kaggle/input/flashwheels/docstring_parser-0.15-py3-none-any.whl\r\n",
      "Installing collected packages: docstring-parser\r\n",
      "Successfully installed docstring-parser-0.15\r\n",
      "\u001b[33mWARNING: Running pip as the 'root' user can result in broken permissions and conflicting behaviour with the system package manager. It is recommended to use a virtual environment instead: https://pip.pypa.io/warnings/venv\u001b[0m\u001b[33m\r\n",
      "\u001b[0m\u001b[33mWARNING: There was an error checking the latest version of pip.\u001b[0m\u001b[33m\r\n",
      "\u001b[0mProcessing /kaggle/input/flashwheels/lightning_flash-0.8.0-py3-none-any.whl\r\n",
      "Installing collected packages: lightning-flash\r\n",
      "Successfully installed lightning-flash-0.8.0\r\n",
      "\u001b[33mWARNING: Running pip as the 'root' user can result in broken permissions and conflicting behaviour with the system package manager. It is recommended to use a virtual environment instead: https://pip.pypa.io/warnings/venv\u001b[0m\u001b[33m\r\n",
      "\u001b[0m\u001b[33mWARNING: There was an error checking the latest version of pip.\u001b[0m\u001b[33m\r\n",
      "\u001b[0mProcessing /kaggle/input/flashwheels/pystiche-1.0.1-py3-none-any.whl\r\n",
      "Installing collected packages: pystiche\r\n",
      "Successfully installed pystiche-1.0.1\r\n",
      "\u001b[33mWARNING: Running pip as the 'root' user can result in broken permissions and conflicting behaviour with the system package manager. It is recommended to use a virtual environment instead: https://pip.pypa.io/warnings/venv\u001b[0m\u001b[33m\r\n",
      "\u001b[0m\u001b[33mWARNING: There was an error checking the latest version of pip.\u001b[0m\u001b[33m\r\n",
      "\u001b[0mProcessing /kaggle/input/flashwheels/pretrainedmodels-0.7.4-py3-none-any.whl\r\n",
      "Installing collected packages: pretrainedmodels\r\n",
      "Successfully installed pretrainedmodels-0.7.4\r\n",
      "\u001b[33mWARNING: Running pip as the 'root' user can result in broken permissions and conflicting behaviour with the system package manager. It is recommended to use a virtual environment instead: https://pip.pypa.io/warnings/venv\u001b[0m\u001b[33m\r\n",
      "\u001b[0m\u001b[33mWARNING: There was an error checking the latest version of pip.\u001b[0m\u001b[33m\r\n",
      "\u001b[0mProcessing /kaggle/input/flashwheels/efficientnet_pytorch-0.7.1-py3-none-any.whl\r\n",
      "Installing collected packages: efficientnet-pytorch\r\n",
      "Successfully installed efficientnet-pytorch-0.7.1\r\n",
      "\u001b[33mWARNING: Running pip as the 'root' user can result in broken permissions and conflicting behaviour with the system package manager. It is recommended to use a virtual environment instead: https://pip.pypa.io/warnings/venv\u001b[0m\u001b[33m\r\n",
      "\u001b[0m\u001b[33mWARNING: There was an error checking the latest version of pip.\u001b[0m\u001b[33m\r\n",
      "\u001b[0mProcessing /kaggle/input/flashwheels/timm-0.4.12-py3-none-any.whl\r\n",
      "Installing collected packages: timm\r\n",
      "Successfully installed timm-0.4.12\r\n",
      "\u001b[33mWARNING: Running pip as the 'root' user can result in broken permissions and conflicting behaviour with the system package manager. It is recommended to use a virtual environment instead: https://pip.pypa.io/warnings/venv\u001b[0m\u001b[33m\r\n",
      "\u001b[0m\u001b[33mWARNING: There was an error checking the latest version of pip.\u001b[0m\u001b[33m\r\n",
      "\u001b[0mProcessing /kaggle/input/flashwheels/segmentation_models_pytorch-0.3.0-py3-none-any.whl\r\n",
      "Installing collected packages: segmentation-models-pytorch\r\n",
      "Successfully installed segmentation-models-pytorch-0.3.0\r\n",
      "\u001b[33mWARNING: Running pip as the 'root' user can result in broken permissions and conflicting behaviour with the system package manager. It is recommended to use a virtual environment instead: https://pip.pypa.io/warnings/venv\u001b[0m\u001b[33m\r\n",
      "\u001b[0m\u001b[33mWARNING: There was an error checking the latest version of pip.\u001b[0m\u001b[33m\r\n",
      "\u001b[0mProcessing /kaggle/input/flashwheels/lightning_bolts-0.5.0-py3-none-any.whl\r\n",
      "Installing collected packages: lightning-bolts\r\n",
      "Successfully installed lightning-bolts-0.5.0\r\n",
      "\u001b[33mWARNING: Running pip as the 'root' user can result in broken permissions and conflicting behaviour with the system package manager. It is recommended to use a virtual environment instead: https://pip.pypa.io/warnings/venv\u001b[0m\u001b[33m\r\n",
      "\u001b[0m\u001b[33mWARNING: There was an error checking the latest version of pip.\u001b[0m\u001b[33m\r\n",
      "\u001b[0mProcessing /kaggle/input/flashwheels/click-8.1.3-py3-none-any.whl\r\n",
      "Installing collected packages: click\r\n",
      "  Attempting uninstall: click\r\n",
      "    Found existing installation: click 8.0.4\r\n",
      "    Uninstalling click-8.0.4:\r\n",
      "      Successfully uninstalled click-8.0.4\r\n",
      "\u001b[31mERROR: pip's dependency resolver does not currently take into account all the packages that are installed. This behaviour is the source of the following dependency conflicts.\r\n",
      "dask-cudf 21.10.1 requires cupy-cuda114, which is not installed.\r\n",
      "spacy 3.3.1 requires typing-extensions<4.2.0,>=3.7.4; python_version < \"3.8\", but you have typing-extensions 4.3.0 which is incompatible.\r\n",
      "ray 2.0.0 requires click<=8.0.4,>=7.0, but you have click 8.1.3 which is incompatible.\r\n",
      "dask-cudf 21.10.1 requires dask==2021.09.1, but you have dask 2022.2.0 which is incompatible.\r\n",
      "dask-cudf 21.10.1 requires distributed==2021.09.1, but you have distributed 2022.2.0 which is incompatible.\r\n",
      "allennlp 2.10.0 requires protobuf==3.20.0, but you have protobuf 3.19.4 which is incompatible.\u001b[0m\u001b[31m\r\n",
      "\u001b[0mSuccessfully installed click-8.1.3\r\n",
      "\u001b[33mWARNING: Running pip as the 'root' user can result in broken permissions and conflicting behaviour with the system package manager. It is recommended to use a virtual environment instead: https://pip.pypa.io/warnings/venv\u001b[0m\u001b[33m\r\n",
      "\u001b[0m\u001b[33mWARNING: There was an error checking the latest version of pip.\u001b[0m\u001b[33m\r\n",
      "\u001b[0mProcessing /kaggle/input/flashwheels/cucim-22.8.1-py3-none-manylinux2014_x86_64.whl\r\n",
      "Installing collected packages: cucim\r\n",
      "Successfully installed cucim-22.8.1\r\n",
      "\u001b[33mWARNING: Running pip as the 'root' user can result in broken permissions and conflicting behaviour with the system package manager. It is recommended to use a virtual environment instead: https://pip.pypa.io/warnings/venv\u001b[0m\u001b[33m\r\n",
      "\u001b[0m\u001b[33mWARNING: There was an error checking the latest version of pip.\u001b[0m\u001b[33m\r\n",
      "\u001b[0m"
     ]
    }
   ],
   "source": [
    "# !pip install flash | grep -v 'already satisfied'\n",
    "!pip install '../input/flashwheels/flash-1.0.3-py3-none-any.whl' | grep -v 'already satisfied'\n",
    "\n",
    "# !pip install lightning-flash | grep -v 'already satisfied'\n",
    "!pip install '../input/flashwheels/jsonargparse-4.9.0-py3-none-any.whl' | grep -v 'already satisfied'\n",
    "!pip install '../input/flashwheels/setuptools-59.5.0-py3-none-any.whl' | grep -v 'already satisfied'\n",
    "!pip install '../input/flashwheels/docstring_parser-0.15-py3-none-any.whl' | grep -v 'already satisfied'\n",
    "!pip install '../input/flashwheels/lightning_flash-0.8.0-py3-none-any.whl' | grep -v 'already satisfied'\n",
    "\n",
    "# !pip install 'lightning-flash[image]' | grep -v 'already satisfied'\n",
    "!pip install '../input/flashwheels/pystiche-1.0.1-py3-none-any.whl' | grep -v 'already satisfied'\n",
    "!pip install '../input/flashwheels/pretrainedmodels-0.7.4-py3-none-any.whl' | grep -v 'already satisfied'\n",
    "!pip install '../input/flashwheels/efficientnet_pytorch-0.7.1-py3-none-any.whl' | grep -v 'already satisfied'\n",
    "!pip install '../input/flashwheels/timm-0.4.12-py3-none-any.whl' | grep -v 'already satisfied'\n",
    "!pip install '../input/flashwheels/segmentation_models_pytorch-0.3.0-py3-none-any.whl' | grep -v 'already satisfied'\n",
    "!pip install '../input/flashwheels/lightning_bolts-0.5.0-py3-none-any.whl' | grep -v 'already satisfied'\n",
    "\n",
    "# !pip install cucim | grep -v 'already satisfied'\n",
    "!pip install '../input/flashwheels/click-8.1.3-py3-none-any.whl' | grep -v 'already satisfied'\n",
    "!pip install '../input/flashwheels/cucim-22.8.1-py3-none-manylinux2014_x86_64.whl' | grep -v 'already satisfied'"
   ]
  },
  {
   "cell_type": "code",
   "execution_count": 3,
   "id": "4596ab20",
   "metadata": {
    "execution": {
     "iopub.execute_input": "2022-10-10T09:38:56.843820Z",
     "iopub.status.busy": "2022-10-10T09:38:56.843499Z",
     "iopub.status.idle": "2022-10-10T09:39:09.087710Z",
     "shell.execute_reply": "2022-10-10T09:39:09.086645Z"
    },
    "papermill": {
     "duration": 12.255735,
     "end_time": "2022-10-10T09:39:09.090069",
     "exception": false,
     "start_time": "2022-10-10T09:38:56.834334",
     "status": "completed"
    },
    "tags": []
   },
   "outputs": [],
   "source": [
    "from cv2 import resize as cvresize\n",
    "from cv2 import INTER_NEAREST\n",
    "from flash import Trainer\n",
    "from flash.image import ImageClassificationData, ImageClassifier\n",
    "from joblib import Parallel, delayed\n",
    "from openslide import OpenSlide\n",
    "from os import listdir, stat\n",
    "from PIL import Image\n",
    "from pytorch_lightning import seed_everything\n",
    "from skimage.io import imread\n",
    "from math import ceil\n",
    "from pandas import DataFrame\n",
    "from timeit import time as ittime\n",
    "from torch import tensor, concat, split, device, cuda, no_grad\n",
    "from tqdm import tqdm\n",
    "from warnings import filterwarnings"
   ]
  },
  {
   "cell_type": "code",
   "execution_count": 4,
   "id": "8ba07de9",
   "metadata": {
    "execution": {
     "iopub.execute_input": "2022-10-10T09:39:09.108081Z",
     "iopub.status.busy": "2022-10-10T09:39:09.106954Z",
     "iopub.status.idle": "2022-10-10T09:39:09.816653Z",
     "shell.execute_reply": "2022-10-10T09:39:09.815637Z"
    },
    "papermill": {
     "duration": 0.720976,
     "end_time": "2022-10-10T09:39:09.819094",
     "exception": false,
     "start_time": "2022-10-10T09:39:09.098118",
     "status": "completed"
    },
    "tags": []
   },
   "outputs": [],
   "source": [
    "from cupy import array, argsort, concatenate, dstack, ones, repeat, stack, uint8, where, zeros, zeros_like \n",
    "from numpy import uint8 as npuint8\n",
    "from numpy import array as nparray\n",
    "from numpy import where as npwhere\n",
    "from numpy import argsort as npargsort\n",
    "from numpy import concatenate as npconcatenate\n",
    "from numpy import ones as npones\n",
    "from numpy import zeros as npzeros\n",
    "from cucim.skimage.color import rgb2hed, hed2rgb, rgb2gray\n",
    "from cucim.skimage.exposure import match_histograms\n",
    "from cucim.skimage.filters import gaussian, threshold_otsu\n",
    "from cucim.skimage.measure import label, regionprops\n",
    "from cucim.skimage.morphology import dilation, disk, opening, square\n",
    "from cucim.skimage.segmentation import clear_border\n",
    "from cucim.skimage.transform import resize"
   ]
  },
  {
   "cell_type": "code",
   "execution_count": 5,
   "id": "a3fef37b",
   "metadata": {
    "execution": {
     "iopub.execute_input": "2022-10-10T09:39:09.836793Z",
     "iopub.status.busy": "2022-10-10T09:39:09.836492Z",
     "iopub.status.idle": "2022-10-10T09:39:09.841081Z",
     "shell.execute_reply": "2022-10-10T09:39:09.840117Z"
    },
    "papermill": {
     "duration": 0.015562,
     "end_time": "2022-10-10T09:39:09.843121",
     "exception": false,
     "start_time": "2022-10-10T09:39:09.827559",
     "status": "completed"
    },
    "tags": []
   },
   "outputs": [],
   "source": [
    "cuda_device = device(\"cuda:0\" if cuda.is_available else \"cpu\")"
   ]
  },
  {
   "cell_type": "code",
   "execution_count": 6,
   "id": "b5c06f6f",
   "metadata": {
    "execution": {
     "iopub.execute_input": "2022-10-10T09:39:09.859846Z",
     "iopub.status.busy": "2022-10-10T09:39:09.859575Z",
     "iopub.status.idle": "2022-10-10T09:39:09.863902Z",
     "shell.execute_reply": "2022-10-10T09:39:09.862966Z"
    },
    "papermill": {
     "duration": 0.014953,
     "end_time": "2022-10-10T09:39:09.865846",
     "exception": false,
     "start_time": "2022-10-10T09:39:09.850893",
     "status": "completed"
    },
    "tags": []
   },
   "outputs": [],
   "source": [
    "filterwarnings(\"ignore\")"
   ]
  },
  {
   "cell_type": "code",
   "execution_count": 7,
   "id": "850d5705",
   "metadata": {
    "execution": {
     "iopub.execute_input": "2022-10-10T09:39:09.883121Z",
     "iopub.status.busy": "2022-10-10T09:39:09.882119Z",
     "iopub.status.idle": "2022-10-10T09:39:09.888074Z",
     "shell.execute_reply": "2022-10-10T09:39:09.887175Z"
    },
    "papermill": {
     "duration": 0.016637,
     "end_time": "2022-10-10T09:39:09.890210",
     "exception": false,
     "start_time": "2022-10-10T09:39:09.873573",
     "status": "completed"
    },
    "tags": []
   },
   "outputs": [],
   "source": [
    "Image.MAX_IMAGE_PIXELS = None\n",
    "RAM = 11e9\n",
    "RESOLUTION = 10\n",
    "SIZE_CAPS = [10e8, 12e8, 15e8, 20e8]\n",
    "SLIDE_PERC_TAKENS = [1.0, 0.9, 0.8, 0.6] # percentages taken refering to sizes\n",
    "SKIPPED_SIZE = 2e8 # keep this for the end (usually doesn't contain enought signal)\n",
    "DATA_DIR = '/kaggle/input/mayo-clinic-strip-ai/test/'"
   ]
  },
  {
   "cell_type": "code",
   "execution_count": 8,
   "id": "6ae50a2b",
   "metadata": {
    "execution": {
     "iopub.execute_input": "2022-10-10T09:39:09.907806Z",
     "iopub.status.busy": "2022-10-10T09:39:09.906954Z",
     "iopub.status.idle": "2022-10-10T09:39:09.911736Z",
     "shell.execute_reply": "2022-10-10T09:39:09.910866Z"
    },
    "papermill": {
     "duration": 0.015593,
     "end_time": "2022-10-10T09:39:09.913641",
     "exception": false,
     "start_time": "2022-10-10T09:39:09.898048",
     "status": "completed"
    },
    "tags": []
   },
   "outputs": [],
   "source": [
    "FPVAL = 16\n",
    "SIGMA = 2\n",
    "MIN_AREA = 10000\n",
    "MAX_SLICE_AREA = 25000000 # 5000*5000"
   ]
  },
  {
   "cell_type": "code",
   "execution_count": 9,
   "id": "87a75bec",
   "metadata": {
    "execution": {
     "iopub.execute_input": "2022-10-10T09:39:09.932144Z",
     "iopub.status.busy": "2022-10-10T09:39:09.931329Z",
     "iopub.status.idle": "2022-10-10T09:39:09.936610Z",
     "shell.execute_reply": "2022-10-10T09:39:09.935653Z"
    },
    "papermill": {
     "duration": 0.017571,
     "end_time": "2022-10-10T09:39:09.938928",
     "exception": false,
     "start_time": "2022-10-10T09:39:09.921357",
     "status": "completed"
    },
    "tags": []
   },
   "outputs": [],
   "source": [
    "TILE_SIZE = 224\n",
    "TILE_AREA = TILE_SIZE/RESOLUTION*TILE_SIZE/RESOLUTION # for segmentation from preview\n",
    "PIXEL_CAP = 240*3 # to be considered as white\n",
    "NOT_BLANK_PERC = 0.95\n",
    "NOT_BLANK_AREA = TILE_SIZE*TILE_SIZE*NOT_BLANK_PERC"
   ]
  },
  {
   "cell_type": "code",
   "execution_count": 10,
   "id": "47189e99",
   "metadata": {
    "execution": {
     "iopub.execute_input": "2022-10-10T09:39:09.957437Z",
     "iopub.status.busy": "2022-10-10T09:39:09.956602Z",
     "iopub.status.idle": "2022-10-10T09:39:15.234760Z",
     "shell.execute_reply": "2022-10-10T09:39:15.233670Z"
    },
    "papermill": {
     "duration": 5.289919,
     "end_time": "2022-10-10T09:39:15.237535",
     "exception": false,
     "start_time": "2022-10-10T09:39:09.947616",
     "status": "completed"
    },
    "tags": []
   },
   "outputs": [],
   "source": [
    "seed_everything(12)\n",
    "REF_IMAGE = array(imread('../input/harmonizer-ref/har_ref.png'))\n",
    "PATH_TO_MODEL_WEIGHTS = \"../input/mayomodelsv2/decentmodelv3.ckpt\"\n",
    "transform_kwargs = {\"image_size\": (224, 224), \"mean\": (0.5, 0.5, 0.5), \"std\": (0.5, 0.5, 0.5)}\n",
    "BATCH_SIZE = 64\n",
    "UNIQUE_LABELS = {\"CE\":0, \"LAA\":1}"
   ]
  },
  {
   "cell_type": "code",
   "execution_count": 11,
   "id": "e0364b28",
   "metadata": {
    "execution": {
     "iopub.execute_input": "2022-10-10T09:39:15.256025Z",
     "iopub.status.busy": "2022-10-10T09:39:15.255703Z",
     "iopub.status.idle": "2022-10-10T09:39:15.264116Z",
     "shell.execute_reply": "2022-10-10T09:39:15.263030Z"
    },
    "papermill": {
     "duration": 0.019396,
     "end_time": "2022-10-10T09:39:15.266241",
     "exception": false,
     "start_time": "2022-10-10T09:39:15.246845",
     "status": "completed"
    },
    "tags": []
   },
   "outputs": [],
   "source": [
    "def get_preview(slide, loaded_perc=1.0):\n",
    "    width, height = slide.dimensions\n",
    "    width, height = int(width*loaded_perc), int(height*loaded_perc)\n",
    "    new_width = int(width/RESOLUTION)\n",
    "    new_height = int(height/RESOLUTION)\n",
    "    amount = ceil(2*(12*width*height + new_width*new_height*22)/ RAM)\n",
    "\n",
    "    w = int(width/amount) # tile width\n",
    "    h = int(height/amount) # tile height\n",
    "    nw = int(new_width/amount) # tile new width\n",
    "    nh = int(new_height/amount) # tile new height\n",
    "\n",
    "    preview = zeros((new_height, new_width, 3), dtype=uint8) + 255\n",
    "    for i in range(amount):\n",
    "        for j in range(amount):\n",
    "            preview[j*nh:(j+1)*nh, i*nw:(i+1)*nw] = array(cvresize(\n",
    "                nparray(slide.read_region((i*w,j*h), 0, (w, h)), dtype=npuint8)[:,:,:3], \n",
    "                dsize=(nw, nh), interpolation=INTER_NEAREST), dtype=uint8)\n",
    "    return preview"
   ]
  },
  {
   "cell_type": "code",
   "execution_count": 12,
   "id": "d5401355",
   "metadata": {
    "execution": {
     "iopub.execute_input": "2022-10-10T09:39:15.283576Z",
     "iopub.status.busy": "2022-10-10T09:39:15.282874Z",
     "iopub.status.idle": "2022-10-10T09:39:15.288991Z",
     "shell.execute_reply": "2022-10-10T09:39:15.288103Z"
    },
    "papermill": {
     "duration": 0.016929,
     "end_time": "2022-10-10T09:39:15.290909",
     "exception": false,
     "start_time": "2022-10-10T09:39:15.273980",
     "status": "completed"
    },
    "tags": []
   },
   "outputs": [],
   "source": [
    "def get_cleaned_binary(preview):\n",
    "    bw = rgb2gray(preview)\n",
    "    bw = threshold_otsu(bw) > gaussian(bw, SIGMA)\n",
    "    bw = opening(bw, square(FPVAL))\n",
    "    bw += clear_border(~bw)\n",
    "    bw = dilation(bw, disk(int(FPVAL*0.25)))\n",
    "    return bw"
   ]
  },
  {
   "cell_type": "code",
   "execution_count": 13,
   "id": "d10c82f0",
   "metadata": {
    "execution": {
     "iopub.execute_input": "2022-10-10T09:39:15.308268Z",
     "iopub.status.busy": "2022-10-10T09:39:15.307498Z",
     "iopub.status.idle": "2022-10-10T09:39:39.283997Z",
     "shell.execute_reply": "2022-10-10T09:39:39.282901Z"
    },
    "papermill": {
     "duration": 23.988101,
     "end_time": "2022-10-10T09:39:39.286741",
     "exception": false,
     "start_time": "2022-10-10T09:39:15.298640",
     "status": "completed"
    },
    "tags": []
   },
   "outputs": [
    {
     "name": "stderr",
     "output_type": "stream",
     "text": [
      "Downloading: \"https://github.com/SwinTransformer/storage/releases/download/v1.0.0/swin_tiny_patch4_window7_224.pth\" to /root/.cache/torch/hub/checkpoints/swin_tiny_patch4_window7_224.pth\n"
     ]
    }
   ],
   "source": [
    "my_trainer = Trainer(enable_progress_bar=False, accelerator='gpu', devices=1, fast_dev_run=True)\n",
    "model = ImageClassifier.load_from_checkpoint(PATH_TO_MODEL_WEIGHTS)\n",
    "\n",
    "def inference(imgs, batch_size):\n",
    "    datamodule = ImageClassificationData.from_tensors(predict_data=imgs,\n",
    "                     transform_kwargs=transform_kwargs,batch_size=batch_size) #dict(image_size=(224, 224)),batch_size=batch_size)\n",
    "    vec = [UNIQUE_LABELS[label] for label in my_trainer.predict(model, datamodule=datamodule, output='labels')[0]]\n",
    "    return tensor(nparray(vec)).to(cuda_device)"
   ]
  },
  {
   "cell_type": "code",
   "execution_count": 14,
   "id": "10c42496",
   "metadata": {
    "execution": {
     "iopub.execute_input": "2022-10-10T09:39:39.304668Z",
     "iopub.status.busy": "2022-10-10T09:39:39.304342Z",
     "iopub.status.idle": "2022-10-10T09:39:39.310389Z",
     "shell.execute_reply": "2022-10-10T09:39:39.309441Z"
    },
    "papermill": {
     "duration": 0.016985,
     "end_time": "2022-10-10T09:39:39.312243",
     "exception": false,
     "start_time": "2022-10-10T09:39:39.295258",
     "status": "completed"
    },
    "tags": []
   },
   "outputs": [],
   "source": [
    "def get_ihc_hed(img):\n",
    "        ihc_hed = (rgb2hed(img))\n",
    "        null = zeros_like(ihc_hed[:, :, 0])\n",
    "        ihc_h = hed2rgb(stack((ihc_hed[:, :, 0], null, null), axis=-1))\n",
    "        ihc_e = hed2rgb(stack((null, ihc_hed[:, :, 1], null), axis=-1))\n",
    "        ihc_d = hed2rgb(stack((null, null, ihc_hed[:, :, 2]), axis=-1))\n",
    "        return ihc_h, ihc_e, ihc_d"
   ]
  },
  {
   "cell_type": "code",
   "execution_count": 15,
   "id": "d101dcf9",
   "metadata": {
    "execution": {
     "iopub.execute_input": "2022-10-10T09:39:39.329691Z",
     "iopub.status.busy": "2022-10-10T09:39:39.328987Z",
     "iopub.status.idle": "2022-10-10T09:39:40.863862Z",
     "shell.execute_reply": "2022-10-10T09:39:40.862804Z"
    },
    "papermill": {
     "duration": 1.54609,
     "end_time": "2022-10-10T09:39:40.866290",
     "exception": false,
     "start_time": "2022-10-10T09:39:39.320200",
     "status": "completed"
    },
    "tags": []
   },
   "outputs": [],
   "source": [
    "IHC_H_REF, IHC_E_RED, IHC_D_REF = get_ihc_hed(REF_IMAGE)\n",
    "del REF_IMAGE"
   ]
  },
  {
   "cell_type": "code",
   "execution_count": 16,
   "id": "8ea3ec83",
   "metadata": {
    "execution": {
     "iopub.execute_input": "2022-10-10T09:39:40.885431Z",
     "iopub.status.busy": "2022-10-10T09:39:40.883723Z",
     "iopub.status.idle": "2022-10-10T09:39:40.890142Z",
     "shell.execute_reply": "2022-10-10T09:39:40.889188Z"
    },
    "papermill": {
     "duration": 0.017546,
     "end_time": "2022-10-10T09:39:40.892189",
     "exception": false,
     "start_time": "2022-10-10T09:39:40.874643",
     "status": "completed"
    },
    "tags": []
   },
   "outputs": [],
   "source": [
    "def harmonize(img):\n",
    "    ihc_h, ihc_e, ihc_d = get_ihc_hed(img)\n",
    "    del img\n",
    "    return (dstack((match_histograms(ihc_h, IHC_H_REF)[:, :, 0],\n",
    "                    match_histograms(ihc_d, IHC_E_RED)[:, :, 1],\n",
    "                    match_histograms(ihc_e, IHC_D_REF)[:, :, 2])\n",
    "                    )*255).astype(uint8)"
   ]
  },
  {
   "cell_type": "code",
   "execution_count": 17,
   "id": "fb65e65d",
   "metadata": {
    "execution": {
     "iopub.execute_input": "2022-10-10T09:39:40.909297Z",
     "iopub.status.busy": "2022-10-10T09:39:40.909027Z",
     "iopub.status.idle": "2022-10-10T09:39:40.927651Z",
     "shell.execute_reply": "2022-10-10T09:39:40.926578Z"
    },
    "papermill": {
     "duration": 0.029915,
     "end_time": "2022-10-10T09:39:40.929995",
     "exception": false,
     "start_time": "2022-10-10T09:39:40.900080",
     "status": "completed"
    },
    "tags": []
   },
   "outputs": [],
   "source": [
    "def predict_slide(slide, bw):\n",
    "    with no_grad():\n",
    "        predicted_labels = tensor(nparray([])).to(cuda_device)\n",
    "        regions = [region for region in regionprops(label(bw)) if region.area > MIN_AREA]\n",
    "        if len(regions) == 0: regions = [region for region in regionprops(label(bw)) if region.area > TILE_AREA]\n",
    "        if len(regions) == 0: return predicted_labels\n",
    "\n",
    "        scaled_bboxes = []\n",
    "        bmasks = []\n",
    "        for region in regions:\n",
    "            old_x, old_y = region.bbox[0], region.bbox[1]\n",
    "            x, y = old_x*RESOLUTION, old_y*RESOLUTION\n",
    "            old_w, old_h = region.bbox[2] - old_x, region.bbox[3] - old_y\n",
    "            w, h = region.bbox[2]*RESOLUTION - x, region.bbox[3]*RESOLUTION - y\n",
    "            extra_x, extra_y = (w % TILE_SIZE), (h % TILE_SIZE)\n",
    "            x += ceil(extra_x/2)\n",
    "            w -= extra_x\n",
    "            y += ceil(extra_y/2)\n",
    "            h -= extra_y\n",
    "\n",
    "            if w*h > MAX_SLICE_AREA:\n",
    "                inf_half_w, sup_half_w = int(w/(TILE_SIZE*2))*TILE_SIZE, ceil(w/(TILE_SIZE*2))*TILE_SIZE\n",
    "                inf_half_h, sup_half_h = int(h/(TILE_SIZE*2))*TILE_SIZE, ceil(h/(TILE_SIZE*2))*TILE_SIZE\n",
    "                inf_b_half_w, inf_b_half_h = int(inf_half_w/RESOLUTION), int(inf_half_h/RESOLUTION)\n",
    "                scaled_bboxes.append((x, y, inf_half_w, inf_half_h))\n",
    "                bmasks.append(region.image[:inf_b_half_w, :inf_b_half_h])\n",
    "\n",
    "                scaled_bboxes.append((x+inf_half_w, y, sup_half_w, inf_half_h))\n",
    "                bmasks.append(region.image[inf_b_half_w:, :inf_b_half_h])\n",
    "\n",
    "                scaled_bboxes.append((x, y+inf_half_w, inf_half_w, sup_half_h))\n",
    "                bmasks.append(region.image[:inf_b_half_w, inf_b_half_h:])\n",
    "\n",
    "                scaled_bboxes.append((x+inf_half_w, y+inf_half_w, sup_half_w, sup_half_h))\n",
    "                bmasks.append(region.image[inf_b_half_w:, inf_b_half_h:])\n",
    "\n",
    "            else:\n",
    "                scaled_bboxes.append((x, y, w, h))\n",
    "                bmasks.append(region.image)\n",
    "        del regions\n",
    "\n",
    "        for (x,y,w,h), bmask in zip(scaled_bboxes, bmasks):\n",
    "\n",
    "            mask = resize(bmask, (w,h))\n",
    "            slice = array(nparray(slide.read_region((y,x), 0, (h, w)), dtype=npuint8)[:,:,:3], dtype=uint8)\n",
    "            for chanel in range(3):\n",
    "                slice[:,:,chanel] *= mask\n",
    "                slice[:,:,chanel] += (~mask*255).astype(uint8)\n",
    "            del mask\n",
    "\n",
    "            n, p = int(slice.shape[0]/TILE_SIZE), int(slice.shape[1]/TILE_SIZE)\n",
    "            tiles = slice.reshape((n,TILE_SIZE,p,TILE_SIZE,3))\n",
    "            del slice\n",
    "\n",
    "            kept_tiles = []\n",
    "            for i in range(n):\n",
    "                for j in range(p):\n",
    "                    if where((tiles[i,:,j,:].sum(axis=-1) < PIXEL_CAP))[0].shape[0] >= NOT_BLANK_AREA:\n",
    "                        kept_tiles.append(harmonize(tiles[i,:,j,:]).get())\n",
    "            kept_tiles = tensor(nparray(kept_tiles))\n",
    "            if kept_tiles.shape[0] == 0: continue\n",
    "\n",
    "            for infered_tiles in split(kept_tiles.to(cuda_device).permute(0,3,1,2), BATCH_SIZE):\n",
    "                predicted_labels = concat([predicted_labels, inference(infered_tiles, infered_tiles.shape[0])])\n",
    "            del kept_tiles\n",
    "\n",
    "    return predicted_labels"
   ]
  },
  {
   "cell_type": "code",
   "execution_count": 18,
   "id": "0cfe1689",
   "metadata": {
    "execution": {
     "iopub.execute_input": "2022-10-10T09:39:40.948130Z",
     "iopub.status.busy": "2022-10-10T09:39:40.946713Z",
     "iopub.status.idle": "2022-10-10T09:39:40.957977Z",
     "shell.execute_reply": "2022-10-10T09:39:40.956941Z"
    },
    "papermill": {
     "duration": 0.022223,
     "end_time": "2022-10-10T09:39:40.960001",
     "exception": false,
     "start_time": "2022-10-10T09:39:40.937778",
     "status": "completed"
    },
    "tags": []
   },
   "outputs": [],
   "source": [
    "filenames = nparray([filename for filename in listdir(DATA_DIR) if filename.endswith(\".tif\")])\n",
    "sizes = nparray([stat(f'{DATA_DIR}{filename}').st_size for filename in filenames])"
   ]
  },
  {
   "cell_type": "code",
   "execution_count": 19,
   "id": "41026c59",
   "metadata": {
    "execution": {
     "iopub.execute_input": "2022-10-10T09:39:40.977490Z",
     "iopub.status.busy": "2022-10-10T09:39:40.976649Z",
     "iopub.status.idle": "2022-10-10T09:39:40.982563Z",
     "shell.execute_reply": "2022-10-10T09:39:40.981678Z"
    },
    "papermill": {
     "duration": 0.01653,
     "end_time": "2022-10-10T09:39:40.984613",
     "exception": false,
     "start_time": "2022-10-10T09:39:40.968083",
     "status": "completed"
    },
    "tags": []
   },
   "outputs": [],
   "source": [
    "indices = npargsort(sizes)\n",
    "\n",
    "first = npwhere(sizes[indices] > SKIPPED_SIZE)[0]\n",
    "last = npwhere(sizes[indices] <= SKIPPED_SIZE)[0]\n",
    "indices = npconcatenate([indices[first], indices[last]])\n",
    "\n",
    "filenames = filenames[indices]\n",
    "sizes = sizes[indices]"
   ]
  },
  {
   "cell_type": "code",
   "execution_count": 20,
   "id": "b07831f7",
   "metadata": {
    "execution": {
     "iopub.execute_input": "2022-10-10T09:39:41.002218Z",
     "iopub.status.busy": "2022-10-10T09:39:41.001484Z",
     "iopub.status.idle": "2022-10-10T09:39:41.007320Z",
     "shell.execute_reply": "2022-10-10T09:39:41.006523Z"
    },
    "papermill": {
     "duration": 0.016767,
     "end_time": "2022-10-10T09:39:41.009228",
     "exception": false,
     "start_time": "2022-10-10T09:39:40.992461",
     "status": "completed"
    },
    "tags": []
   },
   "outputs": [],
   "source": [
    "patient_ids = []\n",
    "kept_indices = []\n",
    "for i, filename in enumerate(filenames):\n",
    "    patient_id = filename[:filename.find('_')]\n",
    "    if patient_id not in patient_ids:\n",
    "        patient_ids.append(patient_id)\n",
    "        kept_indices.append(i)\n",
    "        \n",
    "kept_indices = nparray(kept_indices)\n",
    "filenames[kept_indices] = filenames[kept_indices]\n",
    "sizes[kept_indices] = sizes[kept_indices]"
   ]
  },
  {
   "cell_type": "code",
   "execution_count": 21,
   "id": "802a7acd",
   "metadata": {
    "execution": {
     "iopub.execute_input": "2022-10-10T09:39:41.026525Z",
     "iopub.status.busy": "2022-10-10T09:39:41.025774Z",
     "iopub.status.idle": "2022-10-10T09:39:41.031261Z",
     "shell.execute_reply": "2022-10-10T09:39:41.030426Z"
    },
    "papermill": {
     "duration": 0.016101,
     "end_time": "2022-10-10T09:39:41.033151",
     "exception": false,
     "start_time": "2022-10-10T09:39:41.017050",
     "status": "completed"
    },
    "tags": []
   },
   "outputs": [],
   "source": [
    "load_percs = npones(sizes.shape)\n",
    "for i, size in enumerate(sizes):\n",
    "    perc_taken = SLIDE_PERC_TAKENS[-1]\n",
    "    for index_taken, cap in enumerate(SIZE_CAPS):\n",
    "        if size < cap:\n",
    "            perc_taken = SLIDE_PERC_TAKENS[index_taken]\n",
    "            break\n",
    "    load_percs[i] = perc_taken\n",
    "del SIZE_CAPS, SLIDE_PERC_TAKENS"
   ]
  },
  {
   "cell_type": "code",
   "execution_count": 22,
   "id": "07f9adf6",
   "metadata": {
    "execution": {
     "iopub.execute_input": "2022-10-10T09:39:41.049943Z",
     "iopub.status.busy": "2022-10-10T09:39:41.049304Z",
     "iopub.status.idle": "2022-10-10T09:39:41.059086Z",
     "shell.execute_reply": "2022-10-10T09:39:41.058147Z"
    },
    "papermill": {
     "duration": 0.020279,
     "end_time": "2022-10-10T09:39:41.061123",
     "exception": false,
     "start_time": "2022-10-10T09:39:41.040844",
     "status": "completed"
    },
    "tags": []
   },
   "outputs": [],
   "source": [
    "percs = npzeros(len(patient_ids)) + 0.5\n",
    "labelization = DataFrame({'patient_id': patient_ids, 'CE': percs, 'LAA': percs})\n",
    "del kept_indices, patient_ids, percs"
   ]
  },
  {
   "cell_type": "code",
   "execution_count": 23,
   "id": "3b2af3ce",
   "metadata": {
    "execution": {
     "iopub.execute_input": "2022-10-10T09:39:41.078552Z",
     "iopub.status.busy": "2022-10-10T09:39:41.077779Z",
     "iopub.status.idle": "2022-10-10T09:39:41.089027Z",
     "shell.execute_reply": "2022-10-10T09:39:41.088208Z"
    },
    "papermill": {
     "duration": 0.021846,
     "end_time": "2022-10-10T09:39:41.091016",
     "exception": false,
     "start_time": "2022-10-10T09:39:41.069170",
     "status": "completed"
    },
    "tags": []
   },
   "outputs": [],
   "source": [
    "labelization = labelization.sort_values('patient_id')"
   ]
  },
  {
   "cell_type": "code",
   "execution_count": 24,
   "id": "cddef428",
   "metadata": {
    "execution": {
     "iopub.execute_input": "2022-10-10T09:39:41.108262Z",
     "iopub.status.busy": "2022-10-10T09:39:41.107523Z",
     "iopub.status.idle": "2022-10-10T09:52:25.001498Z",
     "shell.execute_reply": "2022-10-10T09:52:25.000349Z"
    },
    "papermill": {
     "duration": 763.913287,
     "end_time": "2022-10-10T09:52:25.012037",
     "exception": false,
     "start_time": "2022-10-10T09:39:41.098750",
     "status": "completed"
    },
    "tags": []
   },
   "outputs": [
    {
     "name": "stdout",
     "output_type": "stream",
     "text": [
      "--------------------------------------------------------------------\n",
      "0.35Go 00c058_0.tif\n",
      "Openslide took 0.02754 seconds\n",
      "Preview took 99.52381 seconds\n",
      "Clean took 11.50682 seconds\n",
      "815\n",
      "Inference took 60.72802 seconds\n",
      "Everything took 171.7865 seconds\n",
      "--------------------------------------------------------------------\n",
      "0.68Go 01adc5_0.tif\n",
      "Openslide took 0.02722 seconds\n",
      "Preview took 176.15111 seconds\n",
      "Clean took 0.19987 seconds\n",
      "724\n",
      "Inference took 31.56755 seconds\n",
      "Everything took 207.946 seconds\n",
      "--------------------------------------------------------------------\n",
      "1.31Go 006388_0.tif\n",
      "Openslide took 0.03681 seconds\n",
      "Preview took 185.87645 seconds\n",
      "Clean took 0.18237 seconds\n",
      "3905\n",
      "Inference took 167.15354 seconds\n",
      "Everything took 353.24945 seconds\n",
      "--------------------------------------------------------------------\n",
      "0.11Go 008e5c_0.tif\n",
      "Openslide took 0.01831 seconds\n",
      "Preview took 22.96395 seconds\n",
      "Clean took 0.02763 seconds\n",
      "70\n",
      "Inference took 7.89081 seconds\n",
      "Everything took 30.90096 seconds\n"
     ]
    }
   ],
   "source": [
    "for row, (filename, load_perc, slide_size) in enumerate(zip(filenames, load_percs, sizes)):\n",
    "    first_start = ittime.time_ns()\n",
    "    print(\"--------------------------------------------------------------------\")\n",
    "    print(f\"{round(slide_size/1e9, 2)}Go {filename}\")\n",
    "    if slide_size > 35e8:\n",
    "        continue\n",
    "    if time() - begin > 30600: # 8h30\n",
    "        break\n",
    "    slide = OpenSlide(f'{DATA_DIR}{filename}')\n",
    "    print(f\"Openslide took {round((ittime.time_ns() - first_start)/10e8, 5)} seconds\")\n",
    "    start = ittime.time_ns()\n",
    "    preview = get_preview(slide, loaded_perc=load_perc)\n",
    "    print(f\"Preview took {round((ittime.time_ns() - start)/10e8, 5)} seconds\")\n",
    "    start = ittime.time_ns()\n",
    "    bw = get_cleaned_binary(preview)\n",
    "    print(f\"Clean took {round((ittime.time_ns() - start)/10e8, 5)} seconds\")\n",
    "    start = ittime.time_ns()\n",
    "    del preview\n",
    "    vec = predict_slide(slide, bw)\n",
    "    del bw\n",
    "    print(vec.shape[0])\n",
    "    if vec.shape[0] > 0:\n",
    "        perc = 0.99999 if vec.mean() > 0.5 else 0.00001\n",
    "        labelization.loc[row, 'LAA'] = perc\n",
    "        labelization.loc[row, 'CE'] = 1 - perc\n",
    "        labelization.to_csv('/kaggle/working/submission.csv', index=False)\n",
    "    del vec\n",
    "    print(f\"Inference took {round((ittime.time_ns() - start)/10e8, 5)} seconds\")\n",
    "    start = ittime.time_ns()\n",
    "    print(f\"Everything took {round((ittime.time_ns() - first_start)/10e8, 5)} seconds\")"
   ]
  },
  {
   "cell_type": "code",
   "execution_count": 25,
   "id": "90614d16",
   "metadata": {
    "execution": {
     "iopub.execute_input": "2022-10-10T09:52:25.030689Z",
     "iopub.status.busy": "2022-10-10T09:52:25.030044Z",
     "iopub.status.idle": "2022-10-10T09:52:25.046706Z",
     "shell.execute_reply": "2022-10-10T09:52:25.045625Z"
    },
    "papermill": {
     "duration": 0.028662,
     "end_time": "2022-10-10T09:52:25.049175",
     "exception": false,
     "start_time": "2022-10-10T09:52:25.020513",
     "status": "completed"
    },
    "tags": []
   },
   "outputs": [
    {
     "data": {
      "text/html": [
       "<div>\n",
       "<style scoped>\n",
       "    .dataframe tbody tr th:only-of-type {\n",
       "        vertical-align: middle;\n",
       "    }\n",
       "\n",
       "    .dataframe tbody tr th {\n",
       "        vertical-align: top;\n",
       "    }\n",
       "\n",
       "    .dataframe thead th {\n",
       "        text-align: right;\n",
       "    }\n",
       "</style>\n",
       "<table border=\"1\" class=\"dataframe\">\n",
       "  <thead>\n",
       "    <tr style=\"text-align: right;\">\n",
       "      <th></th>\n",
       "      <th>patient_id</th>\n",
       "      <th>CE</th>\n",
       "      <th>LAA</th>\n",
       "    </tr>\n",
       "  </thead>\n",
       "  <tbody>\n",
       "    <tr>\n",
       "      <th>2</th>\n",
       "      <td>006388</td>\n",
       "      <td>0.99999</td>\n",
       "      <td>0.00001</td>\n",
       "    </tr>\n",
       "    <tr>\n",
       "      <th>3</th>\n",
       "      <td>008e5c</td>\n",
       "      <td>0.99999</td>\n",
       "      <td>0.00001</td>\n",
       "    </tr>\n",
       "    <tr>\n",
       "      <th>0</th>\n",
       "      <td>00c058</td>\n",
       "      <td>0.99999</td>\n",
       "      <td>0.00001</td>\n",
       "    </tr>\n",
       "    <tr>\n",
       "      <th>1</th>\n",
       "      <td>01adc5</td>\n",
       "      <td>0.00001</td>\n",
       "      <td>0.99999</td>\n",
       "    </tr>\n",
       "  </tbody>\n",
       "</table>\n",
       "</div>"
      ],
      "text/plain": [
       "  patient_id       CE      LAA\n",
       "2     006388  0.99999  0.00001\n",
       "3     008e5c  0.99999  0.00001\n",
       "0     00c058  0.99999  0.00001\n",
       "1     01adc5  0.00001  0.99999"
      ]
     },
     "execution_count": 25,
     "metadata": {},
     "output_type": "execute_result"
    }
   ],
   "source": [
    "labelization"
   ]
  }
 ],
 "metadata": {
  "kernelspec": {
   "display_name": "Python 3",
   "language": "python",
   "name": "python3"
  },
  "language_info": {
   "codemirror_mode": {
    "name": "ipython",
    "version": 3
   },
   "file_extension": ".py",
   "mimetype": "text/x-python",
   "name": "python",
   "nbconvert_exporter": "python",
   "pygments_lexer": "ipython3",
   "version": "3.7.12"
  },
  "papermill": {
   "default_parameters": {},
   "duration": 1223.841511,
   "end_time": "2022-10-10T09:52:28.159249",
   "environment_variables": {},
   "exception": null,
   "input_path": "__notebook__.ipynb",
   "output_path": "__notebook__.ipynb",
   "parameters": {},
   "start_time": "2022-10-10T09:32:04.317738",
   "version": "2.3.4"
  }
 },
 "nbformat": 4,
 "nbformat_minor": 5
}
